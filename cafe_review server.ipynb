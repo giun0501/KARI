{
 "cells": [
  {
   "cell_type": "code",
   "execution_count": 2,
   "id": "c7cf389a",
   "metadata": {
    "scrolled": true
   },
   "outputs": [],
   "source": [
    "# 패키지 설치\n",
    "import pandas as pd\n",
    "#warning 메시지 표시 안함\n",
    "import warnings\n",
    "warnings.filterwarnings(action = 'ignore')\n",
    "from konlpy.tag import Okt # 형태소 분석에 사용할 konlpy 패키지의 Okt 클래스를 임포트하고 okt\n",
    "\n",
    "okt = Okt()\n",
    "\n",
    "# Train 데이터 불러오기\n",
    "train_df = pd.read_csv('./reviews.csv')\n",
    "\n"
   ]
  },
  {
   "cell_type": "code",
   "execution_count": 16,
   "id": "a4d8ce74",
   "metadata": {},
   "outputs": [
    {
     "name": "stdout",
     "output_type": "stream",
     "text": [
      "               name                                           contents    y\n",
      "0               버블팝  인계동에 새로 생긴 카페 체리커피 왔는데 커피도 맛있고 분위기도 좋네요  소금빵 너...  1.0\n",
      "1          제이스토리케이크                                               맛없어요  0.0\n",
      "2          체리커피 수원점                                              너무 별로  0.0\n",
      "3          제이스토리케이크  아주대 디저트 맛집이에요  갓 나온 소금빵과 쿠키  아기자기한 마카롱까지 넘넘 이뿌...  1.0\n",
      "4       레스티드 에스프레소바                                         커피가 맛이 없어요  0.0\n",
      "..              ...                                                ...  ...\n",
      "133          대단한 커피                                    새로 시작한 호떡 맛있어요   1.0\n",
      "136            키뮤커피                        분위기도 정말 예쁘고 커피도 저렴하고 맛있어요ㅎㅎ  1.0\n",
      "139       The Daisy                                     아이스아메리카노  맛있어요  1.0\n",
      "142              메디                                           커피가 맛있어요  1.0\n",
      "143  케익하우스엠마이마트매탄동점  음식 너무 맛있어요   크로와상 샌드위치는 입도 못댔네요 ㅋ 아들래미가 혼자 다 잡숴서ㅋ  1.0\n",
      "\n",
      "[117 rows x 3 columns]\n",
      "          name                                           contents    y\n",
      "0          버블팝  인계동에 새로 생긴 카페 체리커피 왔는데 커피도 맛있고 분위기도 좋네요  소금빵 너...  1.0\n",
      "1     제이스토리케이크                                               맛없어요  0.0\n",
      "2     체리커피 수원점                                              너무 별로  0.0\n",
      "3     제이스토리케이크  아주대 디저트 맛집이에요  갓 나온 소금빵과 쿠키  아기자기한 마카롱까지 넘넘 이뿌...  1.0\n",
      "4  레스티드 에스프레소바                                         커피가 맛이 없어요  0.0\n",
      "<class 'pandas.core.frame.DataFrame'>\n",
      "Int64Index: 117 entries, 0 to 143\n",
      "Data columns (total 3 columns):\n",
      " #   Column    Non-Null Count  Dtype  \n",
      "---  ------    --------------  -----  \n",
      " 0   name      117 non-null    object \n",
      " 1   contents  117 non-null    object \n",
      " 2   y         117 non-null    float64\n",
      "dtypes: float64(1), object(2)\n",
      "memory usage: 3.7+ KB\n",
      "None\n"
     ]
    }
   ],
   "source": [
    "# 한글 외 문자 제거(옵션)\n",
    "import re # 정규식을 사용하기 위해 re 모듈을 임포트\n",
    "# 댓글이 있는 항목만 담기(빈 댓글 삭제)\n",
    "# text 컬럼이 non-null인 샘플만 train_df에 다시 저장\n",
    "train_df = train_df[train_df['contents'].notnull()]\n",
    "\n",
    "#데이터프레임 null값 제거\n",
    "train_df.dropna()\n",
    "# 수정된 train_df의 정보를 다시 확인\n",
    "print(train_df)\n",
    "# ‘ㄱ ~‘힣’까지의 문자를 제외한 나머지는 공백으로 치환, 영문: a-z| A-Z\n",
    "train_df['contents'] = train_df['contents'].apply(lambda x : re.sub(r'[^ ㄱ-ㅣ가-힣]+', \" \", x))\n",
    "\n",
    "print(train_df.head())\n",
    "\n",
    "# Train용 데이터셋의 정보를 재확인\n",
    "print(train_df.info())\n",
    "text = train_df['contents'] # 시리즈 객체로 저장\n",
    "score = train_df['y']"
   ]
  },
  {
   "cell_type": "code",
   "execution_count": 4,
   "id": "6d17933b",
   "metadata": {
    "scrolled": true
   },
   "outputs": [
    {
     "name": "stdout",
     "output_type": "stream",
     "text": [
      "81 81 36 36\n",
      "70     1.0\n",
      "47     0.0\n",
      "91     0.0\n",
      "106    1.0\n",
      "87     0.0\n",
      "      ... \n",
      "136    1.0\n",
      "69     0.0\n",
      "66     0.0\n",
      "49     0.0\n",
      "46     0.0\n",
      "Name: y, Length: 81, dtype: float64\n"
     ]
    }
   ],
   "source": [
    "from sklearn.model_selection import train_test_split #학습을 위한 라이브러리인 싸이킷런 \n",
    "\n",
    "#학습 데이터 생성 학습(7): 테스트(3) 비율\n",
    "train_x, test_x, train_y, test_y = train_test_split(text, score , test_size=0.3, random_state=0)\n",
    "print(len(train_x), len(train_y), len(test_x), len(test_y)) # 데이터들의 길이 출력\n"
   ]
  },
  {
   "cell_type": "code",
   "execution_count": 10,
   "id": "978be551",
   "metadata": {},
   "outputs": [
    {
     "data": {
      "image/png": "[encoded data removed]",
      "text/plain": [
       "<Figure size 640x480 with 1 Axes>"
      ]
     },
     "metadata": {},
     "output_type": "display_data"
    }
   ],
   "source": [
    "import matplotlib.pyplot as plt\n",
    "plt.scatter(train_x,train_y, color=\"blue\")\n",
    "#plt.plot(X_train,reg2.predict(X_train), color=\"red\")\n",
    "\n",
    "plt.xlabel(\"reivew\")\n",
    "plt.ylabel(\"Score\")\n",
    "plt.show()"
   ]
  },
  {
   "cell_type": "code",
   "execution_count": 5,
   "id": "e73d2fe6",
   "metadata": {
    "scrolled": true
   },
   "outputs": [
    {
     "name": "stdout",
     "output_type": "stream",
     "text": [
      "  (0, 53)\t0.43732403841745054\n",
      "  (0, 46)\t0.6017594861769576\n",
      "  (0, 26)\t0.48038302372457964\n",
      "  (0, 1)\t0.46461312587520187\n",
      "  (1, 53)\t0.5244955494075871\n",
      "  (1, 13)\t0.45171037323766794\n",
      "  (1, 2)\t0.7217078060829882\n",
      "  (2, 54)\t0.33520520763108175\n",
      "  (2, 41)\t0.44323004627106416\n",
      "  (2, 25)\t0.34281933805624604\n",
      "  (2, 8)\t0.5355648869717986\n",
      "  (2, 2)\t0.5355648869717986\n",
      "  (3, 56)\t0.3315305425823486\n",
      "  (3, 54)\t0.2075019611362483\n",
      "  (3, 52)\t0.3315305425823486\n",
      "  (3, 50)\t0.25597177153097767\n",
      "  (3, 30)\t0.3315305425823486\n",
      "  (3, 29)\t0.3315305425823486\n",
      "  (3, 22)\t0.21221533360063916\n",
      "  (3, 12)\t0.31312977531620556\n",
      "  (3, 11)\t0.29809525375191237\n",
      "  (3, 10)\t0.3315305425823486\n",
      "  (3, 7)\t0.3315305425823486\n",
      "  (4, 54)\t0.44392061942462235\n",
      "  (4, 34)\t0.7092619415037797\n",
      "  :\t:\n",
      "  (74, 53)\t0.2977208774763594\n",
      "  (74, 44)\t0.4096650229944874\n",
      "  (74, 43)\t0.31629870615655536\n",
      "  (74, 41)\t0.33903613084896755\n",
      "  (74, 35)\t0.6780722616979351\n",
      "  (74, 5)\t0.2622298351220368\n",
      "  (75, 33)\t0.8278018560386091\n",
      "  (75, 5)\t0.5610205763954064\n",
      "  (76, 55)\t0.2914965118286781\n",
      "  (76, 54)\t0.20290862436597337\n",
      "  (76, 49)\t0.2914965118286781\n",
      "  (76, 48)\t0.32419166528512255\n",
      "  (76, 47)\t0.32419166528512255\n",
      "  (76, 27)\t0.3061982239084411\n",
      "  (76, 26)\t0.25880135837223367\n",
      "  (76, 22)\t0.20751765995116497\n",
      "  (76, 14)\t0.32419166528512255\n",
      "  (76, 13)\t0.40581724873194674\n",
      "  (76, 0)\t0.32419166528512255\n",
      "  (77, 25)\t0.4745478476221938\n",
      "  (77, 6)\t0.741355974302687\n",
      "  (77, 5)\t0.4745478476221938\n",
      "  (78, 5)\t1.0\n",
      "  (79, 34)\t1.0\n",
      "  (80, 5)\t1.0\n"
     ]
    }
   ],
   "source": [
    "#토큰화(tokenization)는 주어진 코퍼스(corpus)에서 토큰(token)이라 불리는 단위로 나눔\n",
    "#토큰화에서 고려해야 할 사항\n",
    "#구두점이나 특수문자를 단순 제외해도 무방한지 확인 (ex, Ph.D, AT&T, $2,000, 11/22/1990, 45.34)\n",
    "#줄임말과 단어 내 띄어쓰기 (we’re, thx, 고대, 영끌)\n",
    "#한국어는 어절 독립단어가 아니므로 형태소(자립, 의존) 분해가 필요\n",
    "#한국어는 띄어쓰기가 지켜지지 않고 있음\n",
    "#TF-IDF 벡터화(단어 빈도-역 문서 빈도: Term Frequency-Inverse Document Frequency)\n",
    "from sklearn.feature_extraction.text import TfidfVectorizer\n",
    "tfv = TfidfVectorizer(tokenizer=okt.morphs, ngram_range=(1,2), min_df=3, max_df=0.9)\n",
    "tfv.fit(train_x)\n",
    "tfv_train_x = tfv.transform(train_x)\n",
    "print(tfv_train_x)\n"
   ]
  },
  {
   "cell_type": "code",
   "execution_count": 6,
   "id": "7737487b",
   "metadata": {},
   "outputs": [
    {
     "name": "stdout",
     "output_type": "stream",
     "text": [
      "Fitting 3 folds for each of 5 candidates, totalling 15 fits\n",
      "{'C': 15} 0.9012345679012346\n"
     ]
    }
   ],
   "source": [
    "from sklearn.linear_model import LogisticRegression # 이진 분류 알고리즘\n",
    "from sklearn.model_selection import GridSearchCV # 하이퍼 파라미터 최적화\n",
    "\n",
    "clf = LogisticRegression(random_state=0)\n",
    "params = {'C': [15, 18, 19, 20, 22]}\n",
    "grid_cv = GridSearchCV(clf, param_grid=params, cv=3, scoring='accuracy', verbose=1)\n",
    "grid_cv.fit(tfv_train_x, train_y)\n",
    "\n",
    "# 최적의 평가 파라미터는 grid_cv.best_estimator_에 저장됨\n",
    "print(grid_cv.best_params_, grid_cv.best_score_)# 가장 적합한 파라메터, 최고 정확도 확인"
   ]
  },
  {
   "cell_type": "code",
   "execution_count": 11,
   "id": "c839f83d",
   "metadata": {},
   "outputs": [
    {
     "name": "stdout",
     "output_type": "stream",
     "text": [
      "감성 분류 모델의 정확도 :  0.694\n"
     ]
    }
   ],
   "source": [
    "tfv_test_x = tfv.transform(test_x)\n",
    "#test_predict = grid_cv.best_estimator_.score(tfv_test_x,test_y)\n",
    "test_predict = grid_cv.best_estimator_.predict(tfv_test_x)\n",
    "from sklearn.metrics import accuracy_score\n",
    "print('감성 분류 모델의 정확도 : ',round(accuracy_score(test_y, test_predict), 3))\n",
    "#결과 0.694 신뢰할만한 데이터가 아님"
   ]
  },
  {
   "cell_type": "code",
   "execution_count": 14,
   "id": "11bd3eb9",
   "metadata": {},
   "outputs": [
    {
     "name": "stdout",
     "output_type": "stream",
     "text": [
      "긍정\n"
     ]
    }
   ],
   "source": [
    "#학습기반 문자열 감정분석 함수\n",
    "\n",
    "\n",
    "def senti(input_text):\n",
    "    \n",
    "    #입력 텍스트에 대한 전처리 수행\n",
    "    input_text = re.compile(r'[ㄱ-ㅣ가-힣]+').findall(input_text)\n",
    "    input_text = [\" \".join(input_text)]\n",
    "    # 입력 텍스트의 피처 벡터화\n",
    "    st_tfidf = tfv.transform(input_text)\n",
    "\n",
    "    # 최적 감성 분석 모델에 적용하여 감성 분석 평가\n",
    "    st_predict = grid_cv.best_estimator_.predict(st_tfidf)\n",
    "\n",
    "    #예측 결과 출력\n",
    "    if(st_predict == 0):\n",
    "        result ='부정'\n",
    "    else :\n",
    "        result='긍정'\n",
    "    return result;\n",
    "\n",
    "test = senti(\"인계동에 새로 생긴 카페 체리커피 왔는데 커피도 맛있고 분위기도 좋네요. 소금빵 너무 맛있네요^^\");\n",
    "print(test)"
   ]
  },
  {
   "cell_type": "code",
   "execution_count": null,
   "id": "79059b53",
   "metadata": {},
   "outputs": [
    {
     "name": "stdout",
     "output_type": "stream",
     "text": [
      " * Serving Flask app '__main__'\n",
      " * Debug mode: off\n"
     ]
    },
    {
     "name": "stderr",
     "output_type": "stream",
     "text": [
      "WARNING: This is a development server. Do not use it in a production deployment. Use a production WSGI server instead.\n",
      " * Running on http://127.0.0.1:5000\n",
      "Press CTRL+C to quit\n",
      "127.0.0.1 - - [18/Jul/2023 15:19:21] \"POST / HTTP/1.1\" 200 -\n"
     ]
    },
    {
     "name": "stdout",
     "output_type": "stream",
     "text": [
      "Received message: 긍정\n"
     ]
    },
    {
     "name": "stderr",
     "output_type": "stream",
     "text": [
      "127.0.0.1 - - [18/Jul/2023 15:19:51] \"POST / HTTP/1.1\" 200 -\n"
     ]
    },
    {
     "name": "stdout",
     "output_type": "stream",
     "text": [
      "Received message: 부정\n"
     ]
    }
   ],
   "source": [
    "#flask 기반 파이썬 서버\n",
    "import json\n",
    "from flask import Flask, request\n",
    "from urllib import parse\n",
    "\n",
    "app = Flask(__name__)\n",
    "app.config['JSON_AS_ASCII'] = False\n",
    "#.decode('utf-8')\n",
    "@app.route('/', methods=['POST'])\n",
    "def sentiment():\n",
    "    message = senti(parse.unquote_plus(request.get_data().decode('utf-8'),'utf8'))\n",
    "    \n",
    "    print('Received message:', message)\n",
    "    \n",
    "    return message\n",
    "\n",
    "if __name__ == '__main__':\n",
    "    app.run()"
   ]
  }
 ],
 "metadata": {
  "kernelspec": {
   "display_name": "Python 3 (ipykernel)",
   "language": "python",
   "name": "python3"
  },
  "language_info": {
   "codemirror_mode": {
    "name": "ipython",
    "version": 3
   },
   "file_extension": ".py",
   "mimetype": "text/x-python",
   "name": "python",
   "nbconvert_exporter": "python",
   "pygments_lexer": "ipython3",
   "version": "3.10.9"
  }
 },
 "nbformat": 4,
 "nbformat_minor": 5
}
